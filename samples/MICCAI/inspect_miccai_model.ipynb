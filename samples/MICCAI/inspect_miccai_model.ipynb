{
 "cells": [
  {
   "cell_type": "markdown",
   "metadata": {},
   "source": [
    "# Mask R-CNN - Inspect MICCAI model weights\n",
    "\n",
    "This notebook shows how to inspect Mask R-CNN weights found for MICCAI16 dataset"
   ]
  },
  {
   "cell_type": "code",
   "execution_count": 1,
   "metadata": {},
   "outputs": [
    {
     "name": "stderr",
     "output_type": "stream",
     "text": [
      "Using TensorFlow backend.\n"
     ]
    }
   ],
   "source": [
    "import os\n",
    "import sys\n",
    "import datetime\n",
    "import numpy as np\n",
    "import skimage.draw\n",
    "import SimpleITK as sitk\n",
    "import matplotlib.pylab as plt\n",
    "from imgaug import augmenters as iaa\n",
    "\n",
    "\n",
    "\n",
    "# Root directory of the project\n",
    "ROOT_DIR = os.path.abspath(\"../../\")\n",
    "\n",
    "# Import Mask RCNN\n",
    "sys.path.append(ROOT_DIR)  # To find local version of the library\n",
    "from mrcnn.config import Config\n",
    "from mrcnn import model as modellib, utils\n",
    "from mrcnn import visualize\n",
    "from mrcnn.visualize import display_images\n",
    "\n",
    "# Path to trained weights file\n",
    "# Path to trained weights file\n",
    "COCO_WEIGHTS_PATH = os.path.join(ROOT_DIR, \"mask_rcnn_coco.h5\")\n",
    "# Download COCO trained weights from Releases if needed\n",
    "if not os.path.exists(COCO_WEIGHTS_PATH):\n",
    "    utils.download_trained_weights(COCO_WEIGHTS_PATH)\n",
    "    \n",
    "\n",
    "MICCAI16_WEIGHTS_PATH = os.path.join(ROOT_DIR, \"logs/MICCAI/mask_rcnn_miccai_0036.h5\")\n",
    "                                     #\"logs/miccai_20px_resnet101/mask_rcnn_miccai_0036.h5\")\n",
    "WEIGHTS_PATH = os.path.join(ROOT_DIR, \"mask_rcnn_coco.h5\")\n",
    "MODEL_DIR = os.path.join(ROOT_DIR, \"logs\")\n",
    "\n",
    "# Directory to save logs and model checkpoints, if not provided\n",
    "# through the command line argument --logs\n",
    "DEFAULT_LOGS_DIR = os.path.join(ROOT_DIR, \"logs\")\n"
   ]
  },
  {
   "cell_type": "markdown",
   "metadata": {},
   "source": [
    "# Configuration"
   ]
  },
  {
   "cell_type": "code",
   "execution_count": 2,
   "metadata": {},
   "outputs": [],
   "source": [
    "\n",
    "class MiccaiConfig(Config):\n",
    "    \"\"\"Configuration for training on the toy  dataset.\n",
    "    Derives from the base Config class and overrides some values.\n",
    "    \"\"\"\n",
    "    # Give the configuration a recognizable name\n",
    "    NAME = \"Miccai\"\n",
    "\n",
    "    # We use a GPU with 12GB memory, which can fit two images.\n",
    "    # Adjust down if you use a smaller GPU.\n",
    "    GPU_COUNT = 1\n",
    "    IMAGES_PER_GPU = 5\n",
    "\n",
    "    # Number of classes (including background)\n",
    "    NUM_CLASSES = 1 + 1  # Background + 1 Lesion\n",
    "\n",
    "    # Number of training steps per epoch\n",
    "    STEPS_PER_EPOCH = 400\n",
    "\n",
    "    # Skip detections with < 90% confidence\n",
    "    #DETECTION_MIN_CONFIDENCE = 0.9\n",
    "    DETECTION_MIN_CONFIDENCE = 0.9\n",
    "    \n",
    "    IMAGE_MIN_DIM = 384\n",
    "    IMAGE_MAX_DIM = 384\n",
    "    \n",
    "    # Image mean (RGB)\n",
    "    MEAN_PIXEL = np.array([0.13, 0.13, 0.13])\n",
    "    \n",
    "    # BACKBONE_STRIDES for computing feature map size\n",
    "    \n",
    "    # Length of square anchor side in pixels\n",
    "    #RPN_ANCHOR_SCALES = (8, 16, 32, 64, 128)\n",
    "    RPN_ANCHOR_SCALES = (16, 32, 64, 128, 256)\n",
    "    \n",
    "    USE_MINI_MASK = True\n",
    "    MINI_MASK_SHAPE = (56, 56) \n",
    "    \n",
    "class MiccaiInferenceConfig(MiccaiConfig):\n",
    "    # Set batch size to 1 to run one image at a time\n",
    "    GPU_COUNT = 1\n",
    "    IMAGES_PER_GPU = 1\n",
    "    # Non-max suppression threshold to filter RPN proposals.\n",
    "    RPN_NMS_THRESHOLD = 0.7"
   ]
  },
  {
   "cell_type": "markdown",
   "metadata": {},
   "source": [
    "## Dataset\n",
    "\n",
    "Load Miccai dataset\n",
    "\n",
    "Override the following methods:\n",
    "\n",
    "* load_image()\n",
    "* load_mask()\n",
    "* image_reference()"
   ]
  },
  {
   "cell_type": "code",
   "execution_count": 3,
   "metadata": {},
   "outputs": [],
   "source": [
    "from skimage import measure\n",
    "from tools import separate_mask\n",
    "\n",
    "class MiccaiDataset(utils.Dataset):\n",
    "    \n",
    "    def load_miccai_dataset(self, dataset_dir,subset):\n",
    "        \"\"\"Load a subset of the dataset.\n",
    "        dataset_dir: Root directory of the dataset.\n",
    "        subset: Subset to load: train or val\n",
    "        \"\"\"\n",
    "        # Add classes. We have 1 classe and backround is initialized per default\n",
    "        self.add_class(\"Miccai\", 1, \"Lesion\")\n",
    "        \n",
    "        assert subset in [\"train\", \"validation\", \"test\"]\n",
    "        \n",
    "        dataset_dir = os.path.join(dataset_dir, \"Miccai_example_data\")\n",
    "        \n",
    "        image_ids = []\n",
    "        \n",
    "        # r=root, d=directories, f = files\n",
    "        for r, d, f in os.walk(dataset_dir):\n",
    "            for file in f:    \n",
    "                if '3DFLAIR' in file:\n",
    "                    image_ids.append(os.path.join(r, file))\n",
    "\n",
    "        nb_image = len(image_ids)\n",
    "        \n",
    "        print(\"nombre image 2D : \", nb_image)\n",
    "\n",
    "        for image_id in image_ids:\n",
    "            img_name = os.path.basename(image_id)\n",
    "            self.add_image(\n",
    "                \"Miccai\",\n",
    "                image_id=img_name[len(\"3DFLAIR_\"):len(img_name)-len(\".nii.gz\")],\n",
    "                path=image_id)\n",
    "                \n",
    "\n",
    "            \n",
    "    def load_mask(self, image_id):\n",
    "        info = self.image_info[image_id]\n",
    "        #dataset_dir = os.path.join(os.path.dirname(info['path']), \"Consensus.nii.gz\")\n",
    "        image_info = self.image_info[image_id]\n",
    "        #print(\"image_info = \", image_info)\n",
    "        \n",
    "        img_name = os.path.dirname(image_info['path'])\n",
    "        #print(\"info id \", image_info['id'])\n",
    "        #print(\"info path \", image_info['path'])\n",
    "        mask_id = os.path.join(os.path.dirname(image_info['path']), \"Consensus_\" + \n",
    "                               str(image_info['id']) + \".nii.gz\")\n",
    "    \n",
    "        #mask_id = os.path.join(os.path.dirname(image_info['path']), \"Consensus_\"+(image_info['id'][8:11])+\".nii.gz\")\n",
    "        #print(\"mask id = \", mask_id)\n",
    "            \n",
    "        \n",
    "        mask=sitk.GetArrayFromImage(sitk.ReadImage(mask_id, sitk.sitkUInt8))\n",
    "        #sitkFloat32))\n",
    "        \n",
    "        num_pixel_treshold = 10\n",
    "        mask = separate_mask(mask, num_pixel_treshold)\n",
    "        \n",
    "        count_non_zero = np.count_nonzero(mask) \n",
    "\n",
    "        if count_non_zero < num_pixel_treshold:\n",
    "            # no mask\n",
    "            mask = np.zeros((mask.shape[0], mask.shape[1], 1))\n",
    "            class_ids = np.zeros(1, np.int32)\n",
    "            #print(\"no mask\")\n",
    "            #print(\"class_ids = \", class_ids.shape)\n",
    "        \n",
    "        else:\n",
    "            class_ids = np.ones([mask.shape[-1]], dtype=np.int32)\n",
    "            #print(\"class_ids = \", class_ids.shape)\n",
    "        \n",
    "        #print(\"mask shape = \", mask.shape)\n",
    "        #print(\"class_ids = \", class_ids.shape)\n",
    "        \n",
    "        #for i in range(0, class_ids.shape[0]):\n",
    "         #   plt.figure()\n",
    "          #  plt.imshow(mask[:,:,i], cmap='gray')\n",
    "           # plt.axis('off')\n",
    "            #plt.show()\n",
    "        \n",
    "        return mask.astype(np.bool), class_ids\n",
    "        \n",
    "    def image_reference(self, image_id):\n",
    "        \"\"\"Return the path of the image.\"\"\"\n",
    "        info = self.image_info[image_id]\n",
    "        if info[\"source\"] == \"Miccai\":\n",
    "            return info[\"path\"]\n",
    "        else:\n",
    "            super(self.__class__, self).image_reference(image_id)\n",
    "    \n",
    "    def load_image (self, image_id):\n",
    "        #print(\"load image\")\n",
    "        # we can use next image_reference function instead of image_info\n",
    "        #print(\"path image id = \", self.image_info[image_id]['path'])\n",
    "        image=sitk.GetArrayFromImage(sitk.ReadImage(self.image_info[image_id]['path'], sitk.sitkFloat32))\n",
    "\n",
    "        image[image < 0] = 0\n",
    "\n",
    "        image=np.stack((image,image,image),axis=2)\n",
    "        \n",
    "        #plt.figure()\n",
    "        #plt.imshow(image, cmap='gray')\n",
    "        #plt.axis('off')\n",
    "        #plt.show()\n",
    "        \n",
    "        #print(\"shape image before returning : \", image.shape)\n",
    "        # mean pixels in all dataset :  0.13044332\n",
    "        # std pixels in all dataset :  0.28245687\n",
    "\n",
    "        return image\n"
   ]
  },
  {
   "cell_type": "markdown",
   "metadata": {},
   "source": [
    "\n",
    "**Load dataset and apply data augmentation**\n"
   ]
  },
  {
   "cell_type": "code",
   "execution_count": 6,
   "metadata": {},
   "outputs": [
    {
     "name": "stdout",
     "output_type": "stream",
     "text": [
      "Image Count: 305\n",
      "Class Count: 2\n",
      "  0. BG                                                \n",
      "  1. Lesion                                            \n"
     ]
    }
   ],
   "source": [
    "# Training dataset.\n",
    "dataset_dir = \"/floyd/input\"\n",
    "\n",
    "# Test dataset\n",
    "dataset_test = MiccaiDataset()\n",
    "dataset_test.load_miccai_dataset(dataset_dir, \"test\")\n",
    "dataset_test.prepare()\n",
    "\n",
    "print(\"Image Count: {}\".format(len(dataset_test.image_ids)))\n",
    "print(\"Class Count: {}\".format(dataset_test.num_classes))\n",
    "for i, info in enumerate(dataset_test.class_info):\n",
    "    print(\"{:3}. {:50}\".format(i, info['name']))\n",
    "\n",
    "dataset = dataset_test"
   ]
  },
  {
   "cell_type": "markdown",
   "metadata": {},
   "source": [
    "**Test avec les valeurs de weights trouvés après l'entraînement**\n",
    "\n",
    "Inference"
   ]
  },
  {
   "cell_type": "code",
   "execution_count": 7,
   "metadata": {},
   "outputs": [
    {
     "name": "stdout",
     "output_type": "stream",
     "text": [
      "\n",
      "Configurations:\n",
      "BACKBONE                       resnet101\n",
      "BACKBONE_STRIDES               [4, 8, 16, 32, 64]\n",
      "BATCH_SIZE                     1\n",
      "BBOX_STD_DEV                   [0.1 0.1 0.2 0.2]\n",
      "COMPUTE_BACKBONE_SHAPE         None\n",
      "DETECTION_MAX_INSTANCES        100\n",
      "DETECTION_MIN_CONFIDENCE       0.9\n",
      "DETECTION_NMS_THRESHOLD        0.3\n",
      "FPN_CLASSIF_FC_LAYERS_SIZE     1024\n",
      "GPU_COUNT                      1\n",
      "GRADIENT_CLIP_NORM             5.0\n",
      "IMAGES_PER_GPU                 1\n",
      "IMAGE_CHANNEL_COUNT            3\n",
      "IMAGE_MAX_DIM                  384\n",
      "IMAGE_META_SIZE                14\n",
      "IMAGE_MIN_DIM                  384\n",
      "IMAGE_MIN_SCALE                0\n",
      "IMAGE_RESIZE_MODE              square\n",
      "IMAGE_SHAPE                    [384 384   3]\n",
      "LEARNING_MOMENTUM              0.9\n",
      "LEARNING_RATE                  0.001\n",
      "LOSS_WEIGHTS                   {'rpn_class_loss': 1.0, 'rpn_bbox_loss': 1.0, 'mrcnn_class_loss': 1.0, 'mrcnn_bbox_loss': 1.0, 'mrcnn_mask_loss': 1.0}\n",
      "MASK_POOL_SIZE                 14\n",
      "MASK_SHAPE                     [28, 28]\n",
      "MAX_GT_INSTANCES               100\n",
      "MEAN_PIXEL                     [0.13 0.13 0.13]\n",
      "MINI_MASK_SHAPE                (56, 56)\n",
      "NAME                           Miccai\n",
      "NUM_CLASSES                    2\n",
      "POOL_SIZE                      7\n",
      "POST_NMS_ROIS_INFERENCE        1000\n",
      "POST_NMS_ROIS_TRAINING         2000\n",
      "PRE_NMS_LIMIT                  6000\n",
      "ROI_POSITIVE_RATIO             0.33\n",
      "RPN_ANCHOR_RATIOS              [0.5, 1, 2]\n",
      "RPN_ANCHOR_SCALES              (16, 32, 64, 128, 256)\n",
      "RPN_ANCHOR_STRIDE              1\n",
      "RPN_BBOX_STD_DEV               [0.1 0.1 0.2 0.2]\n",
      "RPN_NMS_THRESHOLD              0.7\n",
      "RPN_TRAIN_ANCHORS_PER_IMAGE    256\n",
      "STEPS_PER_EPOCH                400\n",
      "TOP_DOWN_PYRAMID_SIZE          256\n",
      "TRAIN_BN                       False\n",
      "TRAIN_ROIS_PER_IMAGE           200\n",
      "USE_MINI_MASK                  True\n",
      "USE_RPN_ROIS                   True\n",
      "VALIDATION_STEPS               50\n",
      "WEIGHT_DECAY                   0.0001\n",
      "\n",
      "\n"
     ]
    }
   ],
   "source": [
    "infConf=MiccaiInferenceConfig()\n",
    "infConf.display()"
   ]
  },
  {
   "cell_type": "code",
   "execution_count": 8,
   "metadata": {},
   "outputs": [
    {
     "name": "stdout",
     "output_type": "stream",
     "text": [
      "WARNING:tensorflow:From /usr/local/lib/python3.6/site-packages/keras/backend/tensorflow_backend.py:517: The name tf.placeholder is deprecated. Please use tf.compat.v1.placeholder instead.\n",
      "\n",
      "WARNING:tensorflow:From /usr/local/lib/python3.6/site-packages/keras/backend/tensorflow_backend.py:74: The name tf.get_default_graph is deprecated. Please use tf.compat.v1.get_default_graph instead.\n",
      "\n",
      "WARNING:tensorflow:From /usr/local/lib/python3.6/site-packages/keras/backend/tensorflow_backend.py:4138: The name tf.random_uniform is deprecated. Please use tf.random.uniform instead.\n",
      "\n",
      "WARNING:tensorflow:From /usr/local/lib/python3.6/site-packages/keras/backend/tensorflow_backend.py:1919: The name tf.nn.fused_batch_norm is deprecated. Please use tf.compat.v1.nn.fused_batch_norm instead.\n",
      "\n",
      "WARNING:tensorflow:From /usr/local/lib/python3.6/site-packages/keras/backend/tensorflow_backend.py:3976: The name tf.nn.max_pool is deprecated. Please use tf.nn.max_pool2d instead.\n",
      "\n",
      "WARNING:tensorflow:From /usr/local/lib/python3.6/site-packages/keras/backend/tensorflow_backend.py:2018: The name tf.image.resize_nearest_neighbor is deprecated. Please use tf.compat.v1.image.resize_nearest_neighbor instead.\n",
      "\n",
      "WARNING:tensorflow:From /floyd/home/mrcnn/model.py:341: The name tf.log is deprecated. Please use tf.math.log instead.\n",
      "\n",
      "WARNING:tensorflow:From /floyd/home/mrcnn/model.py:399: add_dispatch_support.<locals>.wrapper (from tensorflow.python.ops.array_ops) is deprecated and will be removed in a future version.\n",
      "Instructions for updating:\n",
      "Use tf.where in 2.0, which has the same broadcast rule as np.where\n",
      "WARNING:tensorflow:From /floyd/home/mrcnn/model.py:423: calling crop_and_resize_v1 (from tensorflow.python.ops.image_ops_impl) with box_ind is deprecated and will be removed in a future version.\n",
      "Instructions for updating:\n",
      "box_ind is deprecated, use box_indices instead\n",
      "WARNING:tensorflow:From /floyd/home/mrcnn/model.py:720: The name tf.sets.set_intersection is deprecated. Please use tf.sets.intersection instead.\n",
      "\n",
      "WARNING:tensorflow:From /floyd/home/mrcnn/model.py:722: The name tf.sparse_tensor_to_dense is deprecated. Please use tf.sparse.to_dense instead.\n",
      "\n",
      "WARNING:tensorflow:From /floyd/home/mrcnn/model.py:772: to_float (from tensorflow.python.ops.math_ops) is deprecated and will be removed in a future version.\n",
      "Instructions for updating:\n",
      "Use `tf.cast` instead.\n",
      "Loading weights from  /floyd/home/logs/MICCAI/mask_rcnn_miccai_0036.h5\n"
     ]
    }
   ],
   "source": [
    "model = modellib.MaskRCNN(mode=\"inference\", \n",
    "                          config=infConf,\n",
    "                          model_dir=MODEL_DIR)\n",
    "\n",
    "# def detect (model, image_path=None):\n",
    "init_with = \"custom\"  # imagenet, coco, or last or custom\n",
    "\n",
    "if init_with == \"last\":\n",
    "    # Load the last model you trained and continue training\n",
    "    model.load_weights(model.find_last(), by_name=True)\n",
    "elif init_with == \"custom\":\n",
    "    model_path = MICCAI16_WEIGHTS_PATH\n",
    "    \n",
    "    # Load trained weights\n",
    "    print(\"Loading weights from \", model_path)\n",
    "    model.load_weights(model_path, by_name=True)"
   ]
  },
  {
   "cell_type": "code",
   "execution_count": 9,
   "metadata": {},
   "outputs": [],
   "source": [
    "def get_ax(rows=1, cols=1, size=8):\n",
    "    \"\"\"Return a Matplotlib Axes array to be used in\n",
    "    all visualizations in the notebook. Provide a\n",
    "    central point to control graph sizes.\n",
    "    \n",
    "    Change the default size attribute to control the size\n",
    "    of rendered images\n",
    "    \"\"\"\n",
    "    _, ax = plt.subplots(rows, cols, figsize=(size*cols, size*rows))\n",
    "    return ax"
   ]
  },
  {
   "cell_type": "code",
   "execution_count": 11,
   "metadata": {},
   "outputs": [
    {
     "name": "stdout",
     "output_type": "stream",
     "text": [
      "119\n",
      "original_image           shape: (384, 384, 3)         min:    0.00000  max:    1.62300  float32\n",
      "image_meta               shape: (14,)                 min:    0.00000  max:  384.00000  float64\n",
      "gt_class_id              shape: (8,)                  min:    1.00000  max:    1.00000  int32\n",
      "gt_bbox                  shape: (8, 4)                min:  112.00000  max:  310.00000  int32\n",
      "gt_mask                  shape: (384, 384, 8)         min:    0.00000  max:    1.00000  bool\n"
     ]
    },
    {
     "data": {
      "image/png": "[encoded data removed]",
      "text/plain": [
       "<Figure size 576x576 with 1 Axes>"
      ]
     },
     "metadata": {
      "needs_background": "light"
     },
     "output_type": "display_data"
    },
    {
     "name": "stdout",
     "output_type": "stream",
     "text": [
      "Processing 1 images\n",
      "image                    shape: (384, 384, 3)         min:    0.00000  max:    1.62300  float32\n",
      "molded_images            shape: (1, 384, 384, 3)      min:   -0.13000  max:    1.49300  float64\n",
      "image_metas              shape: (1, 14)               min:    0.00000  max:  384.00000  int64\n",
      "anchors                  shape: (1, 36828, 4)         min:   -0.47264  max:    1.30553  float32\n",
      "[1 1 1 1 1 1] vs [1 1 1 1 1 1 1 1]\n"
     ]
    },
    {
     "data": {
      "image/png": "[encoded data removed]",
      "text/plain": [
       "<Figure size 576x576 with 1 Axes>"
      ]
     },
     "metadata": {
      "needs_background": "light"
     },
     "output_type": "display_data"
    }
   ],
   "source": [
    "import tensorflow as tf\n",
    "with tf.device(\"/gpu:0\"):\n",
    "    image_id = np.random.choice(dataset.image_ids)\n",
    "    #image_id = 209\n",
    "    print(image_id)\n",
    "\n",
    "    original_image, image_meta, gt_class_id, gt_bbox, gt_mask =\\\n",
    "        modellib.load_image_gt(dataset, infConf, \n",
    "                               image_id, use_mini_mask=False)\n",
    "    from mrcnn.model import log\n",
    "    log(\"original_image\", original_image)\n",
    "    log(\"image_meta\", image_meta)\n",
    "    log(\"gt_class_id\", gt_class_id)\n",
    "    log(\"gt_bbox\", gt_bbox)\n",
    "    log(\"gt_mask\", gt_mask)\n",
    "\n",
    "    visualize.display_instances(original_image, gt_bbox, gt_mask, gt_class_id, \n",
    "                            dataset.class_names, figsize=(8, 8))\n",
    "\n",
    "    #segmentation\n",
    "    results = model.detect([original_image], verbose=1)\n",
    "\n",
    "    r = results[0]\n",
    "    visualize.display_instances(original_image, r['rois'], r['masks'], r['class_ids'], \n",
    "                            dataset.class_names, r['scores'], ax=get_ax())\n",
    "    print(r['class_ids'],\"vs\",gt_class_id)\n",
    "    #print(\"scores :\", r['scores'])\n",
    "    #print(r['rois'])\n",
    "    #print(r['masks'])"
   ]
  },
  {
   "cell_type": "markdown",
   "metadata": {},
   "source": [
    "## Run Detection"
   ]
  },
  {
   "cell_type": "code",
   "execution_count": 12,
   "metadata": {},
   "outputs": [],
   "source": [
    "from medpy import metric\n",
    "voxel_spacing = [1.0, 1.0]\n",
    "\n",
    "def dice_one_mask(gt_mask,r):\n",
    "    res=0.0\n",
    "    try:\n",
    "        # merge all instances of lesion on a single mask\n",
    "        for i in range (0,r['masks'].shape[2]):\n",
    "            if i==0:\n",
    "                r_mask_unique = r['masks'][:,:,i]\n",
    "            else:\n",
    "                r_mask_unique += r['masks'][:,:,i]\n",
    "        \n",
    "        # merge all instances of lesion on a single mask\n",
    "        for j in range (0,gt_mask.shape[2]):\n",
    "            if j==0:\n",
    "                gt_mask_unique = gt_mask[:,:,j]\n",
    "            else:\n",
    "                gt_mask_unique += gt_mask[:,:,j]\n",
    "        res = metric.binary.dc(r_mask_unique, gt_mask_unique)\n",
    "        return res\n",
    "    except :#IndexError:\n",
    "        #print(\"Exception !!! \")\n",
    "        return 10000\n",
    "\n",
    "def assd_one_mask (gt_mask,r):\n",
    "    res=0.0\n",
    "    try:\n",
    "        for i in range (0,r['masks'].shape[2]):\n",
    "            if i==0:\n",
    "                r_mask_unique = r['masks'][:,:,i]\n",
    "            else:\n",
    "                r_mask_unique += r['masks'][:,:,i]\n",
    "        for j in range (0,gt_mask.shape[2]):\n",
    "            if j==0:\n",
    "                gt_mask_unique = gt_mask[:,:,j]\n",
    "            else:\n",
    "                gt_mask_unique += gt_mask[:,:,j]\n",
    "        \n",
    "        res+=metric.binary.assd(r_mask_unique,gt_mask_unique,voxelspacing=[voxel_spacing[1], voxel_spacing[0]])\n",
    "        \n",
    "        return res\n",
    "    except :#IndexError:\n",
    "        #print(\"Exception !!! \")\n",
    "        return 10000\n",
    "        \n",
    "def hd_one_mask (gt_mask,r):\n",
    "    res=0.0\n",
    "    try:\n",
    "        for i in range (0,r['masks'].shape[2]):\n",
    "            if i==0:\n",
    "                r_mask_unique = r['masks'][:,:,i]\n",
    "            else:\n",
    "                r_mask_unique += r['masks'][:,:,i]\n",
    "        for j in range (0,gt_mask.shape[2]):\n",
    "            if j==0:\n",
    "                gt_mask_unique = gt_mask[:,:,j]\n",
    "            else:\n",
    "                gt_mask_unique += gt_mask[:,:,j]\n",
    "        \n",
    "        res+=metric.binary.hd(r_mask_unique,gt_mask_unique,voxelspacing=[voxel_spacing[1], voxel_spacing[0]])\n",
    "        \n",
    "        return res\n",
    "    except :#IndexError:\n",
    "        #print(\"Exception !!! \")\n",
    "        return 10000\n",
    "        "
   ]
  },
  {
   "cell_type": "code",
   "execution_count": 13,
   "metadata": {},
   "outputs": [],
   "source": [
    "def dice_mask_sep(gt_mask,r):\n",
    "    # keep separate instances of lesions\n",
    "    # ATTENTION!!! \n",
    "    # THIS PART MUST BE REVIEWED !!!!\n",
    "    # some cases aren't handled \n",
    "    res=0.0\n",
    "    try:\n",
    "        for i in range (0,r['masks'].shape[2]):\n",
    "            if (r['masks'].any()):\n",
    "                cpt=0\n",
    "                aa=0\n",
    "                for j in range(0,gt_mask.shape[2]):\n",
    "                    a = metric.binary.dc(r['masks'][:,:,i], gt_mask[:,:,j])\n",
    "                    if(a!=0):\n",
    "                        cpt+=1\n",
    "                        aa+=a\n",
    "                if (aa !=0) and (cpt!=0):\n",
    "                    res+=aa/cpt\n",
    "                    \n",
    "        return res/(float)(r['masks'].shape[2])\n",
    "    except :#IndexError:\n",
    "        #print(\"Exception !!! \")\n",
    "        return 10000"
   ]
  },
  {
   "cell_type": "code",
   "execution_count": 15,
   "metadata": {},
   "outputs": [
    {
     "name": "stdout",
     "output_type": "stream",
     "text": [
      "image ID: Miccai.066 (131) /floyd/input/miccai_preprocess/08029IVDI/3DFLAIR_066.nii.gz\n",
      "Original image shape:  [336 336   3]\n",
      "Processing 1 images\n",
      "image                    shape: (384, 384, 3)         min:    0.00000  max:    1.31125  float32\n",
      "molded_images            shape: (1, 384, 384, 3)      min:    0.00000  max:    1.31125  float32\n",
      "image_metas              shape: (1, 14)               min:    0.00000  max:  384.00000  float64\n",
      "anchors                  shape: (1, 36828, 4)         min:   -0.47264  max:    1.30553  float32\n",
      "gt_class_id              shape: (4,)                  min:    1.00000  max:    1.00000  int32\n",
      "gt_bbox                  shape: (4, 4)                min:  190.00000  max:  328.00000  int32\n",
      "gt_mask                  shape: (384, 384, 4)         min:    0.00000  max:    1.00000  bool\n",
      "AP @0.50:\t 0.000\n",
      "AP @0.55:\t 0.000\n",
      "AP @0.60:\t 0.000\n",
      "AP @0.65:\t 0.000\n",
      "AP @0.70:\t 0.000\n",
      "AP @0.75:\t 0.000\n",
      "AP @0.80:\t 0.000\n",
      "AP @0.85:\t 0.000\n",
      "AP @0.90:\t 0.000\n",
      "AP @0.95:\t 0.000\n",
      "AP @0.50-0.95:\t 0.000\n",
      "dice one mask =  0.23197492163009403\n"
     ]
    },
    {
     "data": {
      "image/png": "[encoded data removed]",
      "text/plain": [
       "<Figure size 576x576 with 1 Axes>"
      ]
     },
     "metadata": {
      "needs_background": "light"
     },
     "output_type": "display_data"
    }
   ],
   "source": [
    "image_id = np.random.choice(dataset.image_ids)\n",
    "#image_id = 168\n",
    "image, image_meta, gt_class_id, gt_bbox, gt_mask =\\\n",
    "    modellib.load_image_gt(dataset, infConf, image_id, use_mini_mask=False)\n",
    "info = dataset.image_info[image_id]\n",
    "print(\"image ID: {}.{} ({}) {}\".format(info[\"source\"], info[\"id\"], image_id, \n",
    "                                       dataset.image_reference(image_id)))\n",
    "print(\"Original image shape: \", modellib.parse_image_meta(image_meta[np.newaxis,...])[\"original_image_shape\"][0])\n",
    "\n",
    "# Run object detection\n",
    "results = model.detect_molded(np.expand_dims(image, 0), np.expand_dims(image_meta, 0), verbose=1)\n",
    "\n",
    "# Display results\n",
    "r = results[0]\n",
    "log(\"gt_class_id\", gt_class_id)\n",
    "log(\"gt_bbox\", gt_bbox)\n",
    "log(\"gt_mask\", gt_mask)\n",
    "\n",
    "# Compute AP over range 0.5 to 0.95 and print it\n",
    "utils.compute_ap_range(gt_bbox, gt_class_id, gt_mask,\n",
    "                       r['rois'], r['class_ids'], r['scores'], r['masks'],\n",
    "                       verbose=1)\n",
    "\n",
    "visualize.display_differences(\n",
    "    image,\n",
    "    gt_bbox, gt_class_id, gt_mask,\n",
    "    r['rois'], r['class_ids'], r['scores'], r['masks'],\n",
    "    dataset.class_names, ax=get_ax(),\n",
    "    show_box=False, show_mask=False,\n",
    "    iou_threshold=0.5, score_threshold=0.5)\n",
    "\n",
    "print(\"dice one mask = \", dice_one_mask(gt_mask,r))\n",
    "#print(\"dice mask separated = \", dice_mask_sep(gt_mask,r))"
   ]
  },
  {
   "cell_type": "markdown",
   "metadata": {},
   "source": [
    "### Compute AP on Batch of Images"
   ]
  },
  {
   "cell_type": "code",
   "execution_count": 16,
   "metadata": {},
   "outputs": [
    {
     "name": "stdout",
     "output_type": "stream",
     "text": [
      "  0 [336 336   3]   AP: 0.18\n",
      "  1 [336 336   3]   AP: 0.05\n",
      "  2 [336 336   3]   AP: 0.29\n",
      "  3 [336 336   3]   AP: 0.23\n",
      "  4 [336 336   3]   AP: 0.17\n",
      "  5 [336 336   3]   AP: 0.10\n",
      "  6 [336 336   3]   AP: 0.00\n",
      "  7 [336 336   3]   AP: 0.05\n",
      "  8 [336 336   3]   AP: 0.17\n",
      "  9 [336 336   3]   AP: 0.18\n",
      "Mean AP overa 10 images: 0.1425\n"
     ]
    }
   ],
   "source": [
    "def compute_batch_ap(dataset, image_ids, verbose=1):\n",
    "    APs = []\n",
    "    for image_id in image_ids:\n",
    "        # Load image\n",
    "        image, image_meta, gt_class_id, gt_bbox, gt_mask =\\\n",
    "            modellib.load_image_gt(dataset, infConf,\n",
    "                                   image_id, use_mini_mask=False)\n",
    "        \n",
    "        # Run object detection\n",
    "        results = model.detect_molded(image[np.newaxis], image_meta[np.newaxis], verbose=0)\n",
    "        # Compute AP over range 0.5 to 0.95\n",
    "        r = results[0]\n",
    "        ap = utils.compute_ap_range(\n",
    "            gt_bbox, gt_class_id, gt_mask,\n",
    "            r['rois'], r['class_ids'], r['scores'], r['masks'],\n",
    "            verbose=0)\n",
    "        APs.append(ap)\n",
    "        if verbose:\n",
    "            info = dataset.image_info[image_id]\n",
    "            meta = modellib.parse_image_meta(image_meta[np.newaxis,...])\n",
    "            print(\"{:3} {}   AP: {:.2f}\".format(\n",
    "                meta[\"image_id\"][0], meta[\"original_image_shape\"][0], ap))\n",
    "    return APs\n",
    "\n",
    "# Run on validation set\n",
    "limit = 10\n",
    "APs = compute_batch_ap(dataset, dataset.image_ids[:limit])\n",
    "print(\"Mean AP overa {} images: {:.4f}\".format(len(APs), np.mean(APs)))"
   ]
  },
  {
   "cell_type": "code",
   "execution_count": 33,
   "metadata": {},
   "outputs": [],
   "source": [
    "#image_ids = np.random.choice(dataset.image_ids, 2)\n",
    "#print(image_ids)\n",
    "\n",
    "image_ids = dataset.image_ids\n",
    "\n",
    "APs = []\n",
    "#DICEsep = []\n",
    "DICEs = []\n",
    "HDs = []\n",
    "ASSDs = []\n",
    "\n",
    "for image_id in image_ids:\n",
    "   # Load image and ground truth data\n",
    "        image, image_meta, gt_class_id, gt_bbox, gt_mask =\\\n",
    "                modellib.load_image_gt(dataset, infConf,\n",
    "                                   image_id, use_mini_mask=False)\n",
    "        molded_images = np.expand_dims(modellib.mold_image(image, infConf), 0)\n",
    "        # Run object detection\n",
    "        results = model.detect([image], verbose=0)\n",
    "        r = results[0]\n",
    "        # Compute AP\n",
    "        AP, precisions, recalls, overlaps =\\\n",
    "            utils.compute_ap(gt_bbox, gt_class_id, gt_mask,\n",
    "                             r[\"rois\"], r[\"class_ids\"], r[\"scores\"], r['masks'])\n",
    "        \n",
    "        #visualize.plot_precision_recall(AP, precisions, recalls)\n",
    "        \n",
    "        APs.append(AP)\n",
    "        \n",
    "        # Compute dice \n",
    "        #print(image_id)\n",
    "        #DICEsep.append(dice_mask_sep(gt_mask,r))\n",
    "        DICEs.append(dice_one_mask(gt_mask,r))\n",
    "        ASSDs.append(assd_one_mask(gt_mask,r))\n",
    "        HDs.append(hd_one_mask(gt_mask,r))\n"
   ]
  },
  {
   "cell_type": "code",
   "execution_count": 34,
   "metadata": {},
   "outputs": [
    {
     "name": "stdout",
     "output_type": "stream",
     "text": [
      "mean dice one mask : 0.5426517128377654\n",
      "std dice one mask : 0.2260795470178622\n",
      "mean assd : 12.17784415887303\n",
      "mean hd : 51.48294268481871\n",
      "mean mAPs : 0.3448580635669383\n",
      "std mAPs : 0.3332651618734267\n"
     ]
    }
   ],
   "source": [
    "DICEs = np.array(DICEs)\n",
    "test = np.where(DICEs<10000)\n",
    "#if len(test[1]) != DICEs.shape[1]:\n",
    " #   print(\"number of exceptions DICE = \", DICEs.shape[1]-len(test[1]))\n",
    "DICEs = np.array([DICEs[i] for i in test])\n",
    "print('mean dice one mask :',np.mean(DICEs))\n",
    "print('std dice one mask :',np.std(DICEs))\n",
    "\n",
    "ASSDs = np.array(ASSDs)\n",
    "test = np.where(ASSDs<10000)\n",
    "#if len(test[1]) != ASSDs.shape[1]:\n",
    " #   print(\"number of exceptions ASD = \", ASSDs.shape[1]-len(test[1]))\n",
    "ASSDs = np.array([ASSDs[i] for i in test])\n",
    "print('mean assd :',np.mean(ASSDs))\n",
    "\n",
    "HDs = np.array(HDs)\n",
    "test = np.where(HDs<10000)\n",
    "#if len(test[1]) != HDs.shape[1]:\n",
    " #   print(\"number of exceptions HD = \", HDs.shape[1]-len(test[1]))\n",
    "HDs = np.array([HDs[i] for i in test])\n",
    "print('mean hd :',np.mean(HDs))\n",
    "        \n",
    "#DICEsep = np.array(DICEsep)\n",
    "#test = np.where(DICEsep<10000)\n",
    "#DICEsep = np.array([DICEsep[i] for i in test])\n",
    "#print('mean dice mask sep:',np.mean(DICEsep))\n",
    "#print('std dice mask sep:',np.std(DICEsep))\n",
    "\n",
    "\n",
    "APs = np.array(APs)\n",
    "print('mean mAPs :',np.mean(APs))\n",
    "print('std mAPs :',np.std(APs))"
   ]
  },
  {
   "cell_type": "code",
   "execution_count": 37,
   "metadata": {},
   "outputs": [],
   "source": [
    "# remove nan values in APs if there are\n",
    "filter = ~np.isnan(APs)\n",
    "APs = APs[filter]"
   ]
  },
  {
   "cell_type": "code",
   "execution_count": 38,
   "metadata": {},
   "outputs": [
    {
     "data": {
      "image/png": "[encoded data removed]",
      "text/plain": [
       "<Figure size 432x288 with 4 Axes>"
      ]
     },
     "metadata": {
      "needs_background": "light"
     },
     "output_type": "display_data"
    }
   ],
   "source": [
    "fig = plt.figure()\n",
    "\n",
    "ax1 = fig.add_subplot(221)\n",
    "ax1.boxplot(np.squeeze(DICEs))\n",
    "\n",
    "ax2 = fig.add_subplot(222)\n",
    "ax2.boxplot(np.squeeze(HDs))\n",
    "\n",
    "ax3 = fig.add_subplot(223)\n",
    "ax3.boxplot(np.squeeze(ASSDs))\n",
    "\n",
    "ax4 = fig.add_subplot(224)\n",
    "ax4.boxplot(np.squeeze(APs))\n",
    "\n",
    "ax1.title.set_text('DICE on one mask')\n",
    "ax2.title.set_text('HD on one mask')\n",
    "ax3.title.set_text('ASD on one mask')\n",
    "ax4.title.set_text('AP on mask separated')\n",
    "plt.show()"
   ]
  },
  {
   "cell_type": "markdown",
   "metadata": {},
   "source": [
    "## Step by Step Prediction"
   ]
  },
  {
   "cell_type": "markdown",
   "metadata": {},
   "source": [
    "## Stage 1: Region Proposal Network\n",
    "\n",
    "The Region Proposal Network (RPN) runs a lightweight binary classifier on a lot of boxes (anchors) over the image and returns object/no-object scores. Anchors with high *objectness* score (positive anchors) are passed to the stage two to be classified.\n",
    "\n",
    "Often, even positive anchors don't cover objects fully. So the RPN also regresses a refinement (a delta in location and size) to be applied to the anchors to shift it and resize it a bit to the correct boundaries of the object."
   ]
  },
  {
   "cell_type": "markdown",
   "metadata": {},
   "source": [
    "### 1.a RPN Targets\n",
    "\n",
    "The RPN targets are the training values for the RPN. To generate the targets, we start with a grid of anchors that cover the full image at different scales, and then we compute the IoU of the anchors with ground truth object. Positive anchors are those that have an IoU >= 0.7 with any ground truth object, and negative anchors are those that don't cover any object by more than 0.3 IoU. Anchors in between (i.e. cover an object by IoU >= 0.3 but < 0.7) are considered neutral and excluded from training.\n",
    "\n",
    "To train the RPN regressor, we also compute the shift and resizing needed to make the anchor cover the ground truth object completely."
   ]
  },
  {
   "cell_type": "code",
   "execution_count": 40,
   "metadata": {},
   "outputs": [
    {
     "name": "stdout",
     "output_type": "stream",
     "text": [
      "215\n",
      "original_image           shape: (384, 384, 3)         min:    0.00000  max:    1.65784  float32\n",
      "image_meta               shape: (14,)                 min:    0.00000  max:  384.00000  float64\n",
      "gt_class_id              shape: (2,)                  min:    1.00000  max:    1.00000  int32\n",
      "gt_bbox                  shape: (2, 4)                min:  186.00000  max:  326.00000  int32\n",
      "gt_mask                  shape: (384, 384, 2)         min:    0.00000  max:    1.00000  bool\n"
     ]
    },
    {
     "data": {
      "image/png": "[encoded data removed]",
      "text/plain": [
       "<Figure size 576x576 with 1 Axes>"
      ]
     },
     "metadata": {
      "needs_background": "light"
     },
     "output_type": "display_data"
    },
    {
     "name": "stdout",
     "output_type": "stream",
     "text": [
      "Processing 1 images\n",
      "image                    shape: (384, 384, 3)         min:    0.00000  max:    1.65784  float32\n",
      "molded_images            shape: (1, 384, 384, 3)      min:   -0.13000  max:    1.52784  float64\n",
      "image_metas              shape: (1, 14)               min:    0.00000  max:  384.00000  int64\n",
      "anchors                  shape: (1, 36828, 4)         min:   -0.47264  max:    1.30553  float32\n",
      "[1 1] vs [1 1]\n"
     ]
    },
    {
     "data": {
      "image/png": "[encoded data removed]",
      "text/plain": [
       "<Figure size 576x576 with 1 Axes>"
      ]
     },
     "metadata": {
      "needs_background": "light"
     },
     "output_type": "display_data"
    }
   ],
   "source": [
    "image_id = np.random.choice(dataset.image_ids)\n",
    "print(image_id)\n",
    "\n",
    "original_image, image_meta, gt_class_id, gt_bbox, gt_mask =\\\n",
    "    modellib.load_image_gt(dataset, infConf, \n",
    "                           image_id, use_mini_mask=False)\n",
    "from mrcnn.model import log\n",
    "log(\"original_image\", original_image)\n",
    "log(\"image_meta\", image_meta)\n",
    "log(\"gt_class_id\", gt_class_id)\n",
    "log(\"gt_bbox\", gt_bbox)\n",
    "log(\"gt_mask\", gt_mask)\n",
    "\n",
    "visualize.display_instances(original_image, gt_bbox, gt_mask, gt_class_id, \n",
    "                        dataset.class_names, figsize=(8, 8))\n",
    "\n",
    "#segmentation\n",
    "results = model.detect([original_image], verbose=1)\n",
    "\n",
    "r = results[0]\n",
    "visualize.display_instances(original_image, r['rois'], r['masks'], r['class_ids'], \n",
    "                        dataset.class_names, r['scores'], ax=get_ax())\n",
    "print(r['class_ids'],\"vs\",gt_class_id)\n",
    "image = original_image"
   ]
  },
  {
   "cell_type": "code",
   "execution_count": 41,
   "metadata": {},
   "outputs": [
    {
     "name": "stdout",
     "output_type": "stream",
     "text": [
      "anchors                  shape: (36828, 4)            min: -181.00000  max:  501.00000  int32\n",
      "target_rpn_match         shape: (36828,)              min:   -1.00000  max:    1.00000  int32\n",
      "target_rpn_bbox          shape: (256, 4)              min:   -5.81575  max:    2.18750  float64\n",
      "positive_anchors         shape: (7, 4)                min:  192.00000  max:  320.00000  int32\n",
      "negative_anchors         shape: (249, 4)              min:  -91.00000  max:  397.00000  int32\n",
      "neutral anchors          shape: (36572, 4)            min: -181.00000  max:  501.00000  int32\n",
      "refined_anchors          shape: (7, 4)                min:  186.00000  max:  326.00000  float32\n"
     ]
    }
   ],
   "source": [
    "# Get anchors and convert to pixel coordinates\n",
    "anchors = model.get_anchors(image.shape)\n",
    "anchors = utils.denorm_boxes(anchors, image.shape[:2])\n",
    "log(\"anchors\", anchors)\n",
    "\n",
    "# Generate RPN trainig targets\n",
    "# target_rpn_match is 1 for positive anchors, -1 for negative anchors\n",
    "# and 0 for neutral anchors.\n",
    "target_rpn_match, target_rpn_bbox = modellib.build_rpn_targets(\n",
    "    image.shape, anchors, gt_class_id, gt_bbox, model.config)\n",
    "log(\"target_rpn_match\", target_rpn_match)\n",
    "log(\"target_rpn_bbox\", target_rpn_bbox)\n",
    "\n",
    "positive_anchor_ix = np.where(target_rpn_match[:] == 1)[0]\n",
    "negative_anchor_ix = np.where(target_rpn_match[:] == -1)[0]\n",
    "neutral_anchor_ix = np.where(target_rpn_match[:] == 0)[0]\n",
    "positive_anchors = anchors[positive_anchor_ix]\n",
    "negative_anchors = anchors[negative_anchor_ix]\n",
    "neutral_anchors = anchors[neutral_anchor_ix]\n",
    "log(\"positive_anchors\", positive_anchors)\n",
    "log(\"negative_anchors\", negative_anchors)\n",
    "log(\"neutral anchors\", neutral_anchors)\n",
    "\n",
    "# Apply refinement deltas to positive anchors\n",
    "refined_anchors = utils.apply_box_deltas(\n",
    "    positive_anchors,\n",
    "    target_rpn_bbox[:positive_anchors.shape[0]] * model.config.RPN_BBOX_STD_DEV)\n",
    "log(\"refined_anchors\", refined_anchors, )"
   ]
  },
  {
   "cell_type": "code",
   "execution_count": 42,
   "metadata": {},
   "outputs": [
    {
     "data": {
      "image/png": "[encoded data removed]",
      "text/plain": [
       "<Figure size 576x576 with 1 Axes>"
      ]
     },
     "metadata": {
      "needs_background": "light"
     },
     "output_type": "display_data"
    }
   ],
   "source": [
    "# Display positive anchors before refinement (dotted) and\n",
    "# after refinement (solid).\n",
    "visualize.draw_boxes(\n",
    "    image, ax=get_ax(),\n",
    "    boxes=positive_anchors,\n",
    "    refined_boxes=refined_anchors)"
   ]
  },
  {
   "cell_type": "markdown",
   "metadata": {},
   "source": [
    "### 1.b RPN Predictions\n",
    "\n",
    "Here we run the RPN graph and display its predictions."
   ]
  },
  {
   "cell_type": "code",
   "execution_count": 43,
   "metadata": {},
   "outputs": [
    {
     "name": "stdout",
     "output_type": "stream",
     "text": [
      "rpn_class                shape: (1, 36828, 2)         min:    0.00000  max:    1.00000  float32\n",
      "pre_nms_anchors          shape: (1, 6000, 4)          min:   -0.47264  max:    1.30553  float32\n",
      "refined_anchors          shape: (1, 6000, 4)          min:   -0.66704  max:    1.38771  float32\n",
      "refined_anchors_clipped  shape: (1, 6000, 4)          min:    0.00000  max:    1.00000  float32\n",
      "post_nms_anchor_ix       shape: (1000,)               min:    0.00000  max: 1268.00000  int32\n",
      "proposals                shape: (1, 1000, 4)          min:    0.09102  max:    0.98424  float32\n"
     ]
    }
   ],
   "source": [
    "# Run RPN sub-graph\n",
    "pillar = model.keras_model.get_layer(\"ROI\").output  # node to start searching from\n",
    "\n",
    "# TF 1.4 and 1.9 introduce new versions of NMS. Search for all names to support TF 1.3~1.10\n",
    "nms_node = model.ancestor(pillar, \"ROI/rpn_non_max_suppression:0\")\n",
    "if nms_node is None:\n",
    "    nms_node = model.ancestor(pillar, \"ROI/rpn_non_max_suppression/NonMaxSuppressionV2:0\")\n",
    "if nms_node is None: #TF 1.9-1.10\n",
    "    nms_node = model.ancestor(pillar, \"ROI/rpn_non_max_suppression/NonMaxSuppressionV3:0\")\n",
    "\n",
    "rpn = model.run_graph(image[np.newaxis], [\n",
    "    (\"rpn_class\", model.keras_model.get_layer(\"rpn_class\").output),\n",
    "    (\"pre_nms_anchors\", model.ancestor(pillar, \"ROI/pre_nms_anchors:0\")),\n",
    "    (\"refined_anchors\", model.ancestor(pillar, \"ROI/refined_anchors:0\")),\n",
    "    (\"refined_anchors_clipped\", model.ancestor(pillar, \"ROI/refined_anchors_clipped:0\")),\n",
    "    (\"post_nms_anchor_ix\", nms_node),\n",
    "    (\"proposals\", model.keras_model.get_layer(\"ROI\").output),\n",
    "], image_metas=image_meta[np.newaxis])"
   ]
  },
  {
   "cell_type": "code",
   "execution_count": 44,
   "metadata": {},
   "outputs": [
    {
     "data": {
      "image/png": "[encoded data removed]",
      "text/plain": [
       "<Figure size 576x576 with 1 Axes>"
      ]
     },
     "metadata": {
      "needs_background": "light"
     },
     "output_type": "display_data"
    }
   ],
   "source": [
    "# Show top anchors by score (before refinement)\n",
    "limit = 100\n",
    "sorted_anchor_ids = np.argsort(rpn['rpn_class'][:,:,1].flatten())[::-1]\n",
    "visualize.draw_boxes(image, boxes=anchors[sorted_anchor_ids[:limit]], ax=get_ax())"
   ]
  },
  {
   "cell_type": "code",
   "execution_count": 45,
   "metadata": {},
   "outputs": [
    {
     "data": {
      "image/png": "[encoded data removed]",
      "text/plain": [
       "<Figure size 1152x576 with 2 Axes>"
      ]
     },
     "metadata": {
      "needs_background": "light"
     },
     "output_type": "display_data"
    }
   ],
   "source": [
    "# Show top anchors with refinement. Then with clipping to image boundaries\n",
    "limit = 100\n",
    "ax = get_ax(1, 2)\n",
    "pre_nms_anchors = utils.denorm_boxes(rpn[\"pre_nms_anchors\"][0], image.shape[:2])\n",
    "refined_anchors = utils.denorm_boxes(rpn[\"refined_anchors\"][0], image.shape[:2])\n",
    "refined_anchors_clipped = utils.denorm_boxes(rpn[\"refined_anchors_clipped\"][0], image.shape[:2])\n",
    "visualize.draw_boxes(image, boxes=pre_nms_anchors[:limit],\n",
    "                     refined_boxes=refined_anchors[:limit], ax=ax[0])\n",
    "visualize.draw_boxes(image, refined_boxes=refined_anchors_clipped[:limit], ax=ax[1])"
   ]
  },
  {
   "cell_type": "code",
   "execution_count": 46,
   "metadata": {},
   "outputs": [
    {
     "data": {
      "image/png": "[encoded data removed]",
      "text/plain": [
       "<Figure size 576x576 with 1 Axes>"
      ]
     },
     "metadata": {
      "needs_background": "light"
     },
     "output_type": "display_data"
    }
   ],
   "source": [
    "# Show refined anchors after non-max suppression\n",
    "limit = 100\n",
    "ixs = rpn[\"post_nms_anchor_ix\"][:limit]\n",
    "visualize.draw_boxes(image, refined_boxes=refined_anchors_clipped[ixs], ax=get_ax())"
   ]
  },
  {
   "cell_type": "code",
   "execution_count": 47,
   "metadata": {},
   "outputs": [
    {
     "data": {
      "image/png": "[encoded data removed]",
      "text/plain": [
       "<Figure size 576x576 with 1 Axes>"
      ]
     },
     "metadata": {
      "needs_background": "light"
     },
     "output_type": "display_data"
    }
   ],
   "source": [
    "# Show final proposals\n",
    "# These are the same as the previous step (refined anchors \n",
    "# after NMS) but with coordinates normalized to [0, 1] range.\n",
    "limit = 100\n",
    "# Convert back to image coordinates for display\n",
    "# h, w = config.IMAGE_SHAPE[:2]\n",
    "# proposals = rpn['proposals'][0, :limit] * np.array([h, w, h, w])\n",
    "visualize.draw_boxes(\n",
    "    image, ax=get_ax(),\n",
    "    refined_boxes=utils.denorm_boxes(rpn['proposals'][0, :limit], image.shape[:2]))"
   ]
  },
  {
   "cell_type": "markdown",
   "metadata": {},
   "source": [
    "## Stage 2: Proposal Classification\n",
    "\n",
    "This stage takes the region proposals from the RPN and classifies them."
   ]
  },
  {
   "cell_type": "markdown",
   "metadata": {},
   "source": [
    "### 2.a Proposal Classification\n",
    "\n",
    "Run the classifier heads on proposals to generate class propbabilities and bounding box regressions."
   ]
  },
  {
   "cell_type": "code",
   "execution_count": 48,
   "metadata": {},
   "outputs": [
    {
     "data": {
      "image/png": "[encoded data removed]",
      "text/plain": [
       "<Figure size 576x576 with 1 Axes>"
      ]
     },
     "metadata": {
      "needs_background": "light"
     },
     "output_type": "display_data"
    }
   ],
   "source": [
    "visualize.display_instances(original_image, gt_bbox, gt_mask, gt_class_id, \n",
    "                        dataset.class_names, figsize=(8, 8))"
   ]
  },
  {
   "cell_type": "code",
   "execution_count": 49,
   "metadata": {},
   "outputs": [
    {
     "name": "stdout",
     "output_type": "stream",
     "text": [
      "proposals                shape: (1, 1000, 4)          min:    0.09103  max:    0.98420  float32\n",
      "probs                    shape: (1, 1000, 2)          min:    0.00043  max:    0.99957  float32\n",
      "deltas                   shape: (1, 1000, 2, 4)       min:   -2.63296  max:    3.23390  float32\n",
      "masks                    shape: (1, 100, 28, 28, 2)   min:    0.00001  max:    0.99642  float32\n",
      "detections               shape: (1, 100, 6)           min:    0.00000  max:    1.00000  float32\n"
     ]
    }
   ],
   "source": [
    "# Get input and output to classifier and mask heads.\n",
    "mrcnn = model.run_graph([image], [\n",
    "    (\"proposals\", model.keras_model.get_layer(\"ROI\").output),\n",
    "    (\"probs\", model.keras_model.get_layer(\"mrcnn_class\").output),\n",
    "    (\"deltas\", model.keras_model.get_layer(\"mrcnn_bbox\").output),\n",
    "    (\"masks\", model.keras_model.get_layer(\"mrcnn_mask\").output),\n",
    "    (\"detections\", model.keras_model.get_layer(\"mrcnn_detection\").output),\n",
    "])"
   ]
  },
  {
   "cell_type": "code",
   "execution_count": 50,
   "metadata": {},
   "outputs": [
    {
     "name": "stdout",
     "output_type": "stream",
     "text": [
      "2 detections: ['Lesion' 'Lesion']\n"
     ]
    },
    {
     "data": {
      "image/png": "[encoded data removed]",
      "text/plain": [
       "<Figure size 576x576 with 1 Axes>"
      ]
     },
     "metadata": {
      "needs_background": "light"
     },
     "output_type": "display_data"
    }
   ],
   "source": [
    "# Get detection class IDs. Trim zero padding.\n",
    "det_class_ids = mrcnn['detections'][0, :, 4].astype(np.int32)\n",
    "det_count = np.where(det_class_ids == 0)[0][0]\n",
    "det_class_ids = det_class_ids[:det_count]\n",
    "detections = mrcnn['detections'][0, :det_count]\n",
    "\n",
    "print(\"{} detections: {}\".format(\n",
    "    det_count, np.array(dataset.class_names)[det_class_ids]))\n",
    "\n",
    "captions = [\"{} {:.3f}\".format(dataset.class_names[int(c)], s) if c > 0 else \"\"\n",
    "            for c, s in zip(detections[:, 4], detections[:, 5])]\n",
    "visualize.draw_boxes(\n",
    "    image, \n",
    "    refined_boxes=utils.denorm_boxes(detections[:, :4], image.shape[:2]),\n",
    "    visibilities=[2] * len(detections),\n",
    "    captions=captions, title=\"Detections\",\n",
    "    ax=get_ax())"
   ]
  },
  {
   "cell_type": "markdown",
   "metadata": {},
   "source": [
    "### 2.c Step by Step Detection\n",
    "\n",
    "Here we dive deeper into the process of processing the detections."
   ]
  },
  {
   "cell_type": "code",
   "execution_count": 51,
   "metadata": {},
   "outputs": [
    {
     "name": "stdout",
     "output_type": "stream",
     "text": [
      "1000 Valid proposals out of 1000\n",
      "39 Positive ROIs\n",
      "[('BG', 961), ('Lesion', 39)]\n"
     ]
    }
   ],
   "source": [
    "# Proposals are in normalized coordinates\n",
    "proposals = mrcnn[\"proposals\"][0]\n",
    "\n",
    "# Class ID, score, and mask per proposal\n",
    "roi_class_ids = np.argmax(mrcnn[\"probs\"][0], axis=1)\n",
    "roi_scores = mrcnn[\"probs\"][0, np.arange(roi_class_ids.shape[0]), roi_class_ids]\n",
    "roi_class_names = np.array(dataset.class_names)[roi_class_ids]\n",
    "roi_positive_ixs = np.where(roi_class_ids > 0)[0]\n",
    "\n",
    "# How many ROIs vs empty rows?\n",
    "print(\"{} Valid proposals out of {}\".format(np.sum(np.any(proposals, axis=1)), proposals.shape[0]))\n",
    "print(\"{} Positive ROIs\".format(len(roi_positive_ixs)))\n",
    "\n",
    "# Class counts\n",
    "print(list(zip(*np.unique(roi_class_names, return_counts=True))))"
   ]
  },
  {
   "cell_type": "code",
   "execution_count": 52,
   "metadata": {},
   "outputs": [
    {
     "data": {
      "image/png": "[encoded data removed]",
      "text/plain": [
       "<Figure size 576x576 with 1 Axes>"
      ]
     },
     "metadata": {
      "needs_background": "light"
     },
     "output_type": "display_data"
    }
   ],
   "source": [
    "# Display a random sample of proposals.\n",
    "# Proposals classified as background are dotted, and\n",
    "# the rest show their class and confidence score.\n",
    "limit = 50\n",
    "ixs = np.random.randint(0, proposals.shape[0], limit)\n",
    "captions = [\"{} {:.3f}\".format(dataset.class_names[c], s) if c > 0 else \"\"\n",
    "            for c, s in zip(roi_class_ids[ixs], roi_scores[ixs])]\n",
    "visualize.draw_boxes(\n",
    "    image,\n",
    "    boxes=utils.denorm_boxes(proposals[ixs], image.shape[:2]),\n",
    "    visibilities=np.where(roi_class_ids[ixs] > 0, 2, 1),\n",
    "    captions=captions, title=\"ROIs Before Refinement\",\n",
    "    ax=get_ax())"
   ]
  },
  {
   "cell_type": "markdown",
   "metadata": {},
   "source": [
    "#### Apply Bounding Box Refinement"
   ]
  },
  {
   "cell_type": "code",
   "execution_count": 53,
   "metadata": {},
   "outputs": [
    {
     "name": "stdout",
     "output_type": "stream",
     "text": [
      "roi_bbox_specific        shape: (1000, 4)             min:   -2.31950  max:    2.52933  float32\n",
      "refined_proposals        shape: (1000, 4)             min:    0.03631  max:    1.04965  float32\n"
     ]
    },
    {
     "data": {
      "image/png": "[encoded data removed]",
      "text/plain": [
       "<Figure size 576x576 with 1 Axes>"
      ]
     },
     "metadata": {
      "needs_background": "light"
     },
     "output_type": "display_data"
    }
   ],
   "source": [
    "# Class-specific bounding box shifts.\n",
    "roi_bbox_specific = mrcnn[\"deltas\"][0, np.arange(proposals.shape[0]), roi_class_ids]\n",
    "log(\"roi_bbox_specific\", roi_bbox_specific)\n",
    "\n",
    "# Apply bounding box transformations\n",
    "# Shape: [N, (y1, x1, y2, x2)]\n",
    "refined_proposals = utils.apply_box_deltas(\n",
    "    proposals, roi_bbox_specific * infConf.BBOX_STD_DEV)\n",
    "log(\"refined_proposals\", refined_proposals)\n",
    "\n",
    "# Show positive proposals\n",
    "# ids = np.arange(roi_boxes.shape[0])  # Display all\n",
    "limit = 5\n",
    "ids = np.random.randint(0, len(roi_positive_ixs), limit)  # Display random sample\n",
    "captions = [\"{} {:.3f}\".format(dataset.class_names[c], s) if c > 0 else \"\"\n",
    "            for c, s in zip(roi_class_ids[roi_positive_ixs][ids], roi_scores[roi_positive_ixs][ids])]\n",
    "visualize.draw_boxes(\n",
    "    image, ax=get_ax(),\n",
    "    boxes=utils.denorm_boxes(proposals[roi_positive_ixs][ids], image.shape[:2]),\n",
    "    refined_boxes=utils.denorm_boxes(refined_proposals[roi_positive_ixs][ids], image.shape[:2]),\n",
    "    visibilities=np.where(roi_class_ids[roi_positive_ixs][ids] > 0, 1, 0),\n",
    "    captions=captions, title=\"ROIs After Refinement\")"
   ]
  },
  {
   "cell_type": "markdown",
   "metadata": {},
   "source": [
    "#### Filter Low Confidence Detections"
   ]
  },
  {
   "cell_type": "code",
   "execution_count": 54,
   "metadata": {},
   "outputs": [
    {
     "name": "stdout",
     "output_type": "stream",
     "text": [
      "Keep 39 detections:\n",
      "[  2   3   6  10  14  21  22  26  33  35  48  49  50  54  58  67  69  82\n",
      "  95 104 120 130 141 155 209 219 231 325 328 337 339 471 509 533 571 601\n",
      " 685 754 909]\n"
     ]
    }
   ],
   "source": [
    "# Remove boxes classified as background\n",
    "keep = np.where(roi_class_ids > 0)[0]\n",
    "print(\"Keep {} detections:\\n{}\".format(keep.shape[0], keep))"
   ]
  },
  {
   "cell_type": "code",
   "execution_count": 55,
   "metadata": {},
   "outputs": [
    {
     "name": "stdout",
     "output_type": "stream",
     "text": [
      "Remove boxes below 0.9 confidence. Keep 17:\n",
      "[  2   3  10  22  26  33  35  48  50  54 130 231 337 471 533 571 909]\n"
     ]
    }
   ],
   "source": [
    "# Remove low confidence detections\n",
    "keep = np.intersect1d(keep, np.where(roi_scores >= infConf.DETECTION_MIN_CONFIDENCE)[0])\n",
    "print(\"Remove boxes below {} confidence. Keep {}:\\n{}\".format(\n",
    "    infConf.DETECTION_MIN_CONFIDENCE, keep.shape[0], keep))"
   ]
  },
  {
   "cell_type": "markdown",
   "metadata": {},
   "source": [
    "#### Per-Class Non-Max Suppression"
   ]
  },
  {
   "cell_type": "code",
   "execution_count": 56,
   "metadata": {},
   "outputs": [
    {
     "name": "stdout",
     "output_type": "stream",
     "text": [
      "Lesion                : [  2   3  10  22  26  33  35  48  50  54 130 231 337 471 533 571 909] -> [571  48]\n",
      "\n",
      "Kept after per-class NMS: 2\n",
      "[ 48 571]\n"
     ]
    }
   ],
   "source": [
    "# Apply per-class non-max suppression\n",
    "pre_nms_boxes = refined_proposals[keep]\n",
    "pre_nms_scores = roi_scores[keep]\n",
    "pre_nms_class_ids = roi_class_ids[keep]\n",
    "\n",
    "nms_keep = []\n",
    "for class_id in np.unique(pre_nms_class_ids):\n",
    "    # Pick detections of this class\n",
    "    ixs = np.where(pre_nms_class_ids == class_id)[0]\n",
    "    # Apply NMS\n",
    "    class_keep = utils.non_max_suppression(pre_nms_boxes[ixs], \n",
    "                                            pre_nms_scores[ixs],\n",
    "                                            infConf.DETECTION_NMS_THRESHOLD)\n",
    "    # Map indicies\n",
    "    class_keep = keep[ixs[class_keep]]\n",
    "    nms_keep = np.union1d(nms_keep, class_keep)\n",
    "    print(\"{:22}: {} -> {}\".format(dataset.class_names[class_id][:20], \n",
    "                                   keep[ixs], class_keep))\n",
    "\n",
    "keep = np.intersect1d(keep, nms_keep).astype(np.int32)\n",
    "print(\"\\nKept after per-class NMS: {}\\n{}\".format(keep.shape[0], keep))"
   ]
  },
  {
   "cell_type": "code",
   "execution_count": 57,
   "metadata": {},
   "outputs": [
    {
     "data": {
      "image/png": "[encoded data removed]",
      "text/plain": [
       "<Figure size 576x576 with 1 Axes>"
      ]
     },
     "metadata": {
      "needs_background": "light"
     },
     "output_type": "display_data"
    }
   ],
   "source": [
    "# Show final detections\n",
    "ixs = np.arange(len(keep))  # Display all\n",
    "# ixs = np.random.randint(0, len(keep), 10)  # Display random sample\n",
    "captions = [\"{} {:.3f}\".format(dataset.class_names[c], s) if c > 0 else \"\"\n",
    "            for c, s in zip(roi_class_ids[keep][ixs], roi_scores[keep][ixs])]\n",
    "visualize.draw_boxes(\n",
    "    image,\n",
    "    boxes=utils.denorm_boxes(proposals[keep][ixs], image.shape[:2]),\n",
    "    refined_boxes=utils.denorm_boxes(refined_proposals[keep][ixs], image.shape[:2]),\n",
    "    visibilities=np.where(roi_class_ids[keep][ixs] > 0, 1, 0),\n",
    "    captions=captions, title=\"Detections after NMS\",\n",
    "    ax=get_ax())"
   ]
  },
  {
   "cell_type": "markdown",
   "metadata": {},
   "source": [
    "## Stage 3: Generating Masks\n",
    "\n",
    "This stage takes the detections (refined bounding boxes and class IDs) from the previous layer and runs the mask head to generate segmentation masks for every instance."
   ]
  },
  {
   "cell_type": "code",
   "execution_count": 58,
   "metadata": {},
   "outputs": [
    {
     "data": {
      "image/png": "[encoded data removed]",
      "text/plain": [
       "<Figure size 1008x216 with 2 Axes>"
      ]
     },
     "metadata": {
      "needs_background": "light"
     },
     "output_type": "display_data"
    }
   ],
   "source": [
    "limit = 8\n",
    "display_images(np.transpose(gt_mask[..., :limit], [2, 0, 1]), cmap=\"Blues\")"
   ]
  },
  {
   "cell_type": "markdown",
   "metadata": {},
   "source": [
    "### 3.b Predicted Masks"
   ]
  },
  {
   "cell_type": "code",
   "execution_count": 59,
   "metadata": {},
   "outputs": [
    {
     "name": "stdout",
     "output_type": "stream",
     "text": [
      "detections               shape: (1, 100, 6)           min:    0.00000  max:    1.00000  float32\n",
      "masks                    shape: (1, 100, 28, 28, 2)   min:    0.00001  max:    0.99642  float32\n",
      "2 detections: ['Lesion' 'Lesion']\n"
     ]
    }
   ],
   "source": [
    "# Get predictions of mask head\n",
    "mrcnn = model.run_graph([image], [\n",
    "    (\"detections\", model.keras_model.get_layer(\"mrcnn_detection\").output),\n",
    "    (\"masks\", model.keras_model.get_layer(\"mrcnn_mask\").output),\n",
    "])\n",
    "\n",
    "# Get detection class IDs. Trim zero padding.\n",
    "det_class_ids = mrcnn['detections'][0, :, 4].astype(np.int32)\n",
    "det_count = np.where(det_class_ids == 0)[0][0]\n",
    "det_class_ids = det_class_ids[:det_count]\n",
    "\n",
    "print(\"{} detections: {}\".format(\n",
    "    det_count, np.array(dataset.class_names)[det_class_ids]))"
   ]
  },
  {
   "cell_type": "code",
   "execution_count": 60,
   "metadata": {},
   "outputs": [
    {
     "name": "stdout",
     "output_type": "stream",
     "text": [
      "det_mask_specific        shape: (2, 28, 28)           min:    0.00018  max:    0.99642  float32\n",
      "det_masks                shape: (2, 384, 384)         min:    0.00000  max:    1.00000  bool\n"
     ]
    }
   ],
   "source": [
    "# Masks\n",
    "det_boxes = utils.denorm_boxes(mrcnn[\"detections\"][0, :, :4], image.shape[:2])\n",
    "det_mask_specific = np.array([mrcnn[\"masks\"][0, i, :, :, c] \n",
    "                              for i, c in enumerate(det_class_ids)])\n",
    "det_masks = np.array([utils.unmold_mask(m, det_boxes[i], image.shape)\n",
    "                      for i, m in enumerate(det_mask_specific)])\n",
    "log(\"det_mask_specific\", det_mask_specific)\n",
    "log(\"det_masks\", det_masks)"
   ]
  },
  {
   "cell_type": "code",
   "execution_count": 61,
   "metadata": {},
   "outputs": [
    {
     "data": {
      "image/png": "[encoded data removed]",
      "text/plain": [
       "<Figure size 1008x216 with 2 Axes>"
      ]
     },
     "metadata": {
      "needs_background": "light"
     },
     "output_type": "display_data"
    }
   ],
   "source": [
    "display_images(det_mask_specific[:4] * 255, cmap=\"Blues\", interpolation=\"none\")"
   ]
  },
  {
   "cell_type": "code",
   "execution_count": 62,
   "metadata": {},
   "outputs": [
    {
     "data": {
      "image/png": "[encoded data removed]",
      "text/plain": [
       "<Figure size 1008x216 with 2 Axes>"
      ]
     },
     "metadata": {
      "needs_background": "light"
     },
     "output_type": "display_data"
    }
   ],
   "source": [
    "display_images(det_masks[:4] * 255, cmap=\"Blues\", interpolation=\"none\")"
   ]
  },
  {
   "cell_type": "markdown",
   "metadata": {},
   "source": [
    "## Visualize Activations\n",
    "\n",
    "In some cases it helps to look at the output from different layers and visualize them to catch issues and odd patterns."
   ]
  },
  {
   "cell_type": "code",
   "execution_count": 63,
   "metadata": {},
   "outputs": [
    {
     "name": "stdout",
     "output_type": "stream",
     "text": [
      "input_image              shape: (1, 384, 384, 3)      min:   -0.13000  max:    1.52784  float32\n",
      "res2c_out                shape: (1, 96, 96, 256)      min:    0.00000  max:   21.16242  float32\n",
      "res3c_out                shape: (1, 48, 48, 512)      min:    0.00000  max:   27.53976  float32\n",
      "rpn_bbox                 shape: (1, 36828, 4)         min:  -17.21289  max:   17.89811  float32\n",
      "roi                      shape: (1, 1000, 4)          min:    0.09103  max:    0.98420  float32\n"
     ]
    }
   ],
   "source": [
    "# Get activations of a few sample layers\n",
    "import tensorflow as tf\n",
    "activations = model.run_graph([image], [\n",
    "    (\"input_image\",        tf.identity(model.keras_model.get_layer(\"input_image\").output)),\n",
    "    (\"res2c_out\",          model.keras_model.get_layer(\"res2c_out\").output),\n",
    "    (\"res3c_out\",          model.keras_model.get_layer(\"res3c_out\").output),\n",
    "    (\"rpn_bbox\",           model.keras_model.get_layer(\"rpn_bbox\").output),\n",
    "    (\"roi\",                model.keras_model.get_layer(\"ROI\").output),\n",
    "])"
   ]
  },
  {
   "cell_type": "code",
   "execution_count": 64,
   "metadata": {},
   "outputs": [
    {
     "data": {
      "image/png": "[encoded data removed]",
      "text/plain": [
       "<Figure size 1008x360 with 5 Axes>"
      ]
     },
     "metadata": {
      "needs_background": "light"
     },
     "output_type": "display_data"
    }
   ],
   "source": [
    "# Backbone feature map\n",
    "display_images(np.transpose(activations[\"res2c_out\"][0,:,:,:5], [2, 0, 1]), cols=5)"
   ]
  },
  {
   "cell_type": "code",
   "execution_count": null,
   "metadata": {},
   "outputs": [],
   "source": []
  }
 ],
 "metadata": {
  "kernelspec": {
   "display_name": "Python 3",
   "language": "python",
   "name": "python3"
  },
  "language_info": {
   "codemirror_mode": {
    "name": "ipython",
    "version": 3
   },
   "file_extension": ".py",
   "mimetype": "text/x-python",
   "name": "python",
   "nbconvert_exporter": "python",
   "pygments_lexer": "ipython3",
   "version": "3.6.5"
  }
 },
 "nbformat": 4,
 "nbformat_minor": 4
}
