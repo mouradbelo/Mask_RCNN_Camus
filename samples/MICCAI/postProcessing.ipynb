{
 "cells": [
  {
   "cell_type": "markdown",
   "metadata": {},
   "source": [
    "Script for checking at loss function after training"
   ]
  },
  {
   "cell_type": "code",
   "execution_count": 1,
   "metadata": {},
   "outputs": [
    {
     "data": {
      "text/html": [
       "<div>\n",
       "<style scoped>\n",
       "    .dataframe tbody tr th:only-of-type {\n",
       "        vertical-align: middle;\n",
       "    }\n",
       "\n",
       "    .dataframe tbody tr th {\n",
       "        vertical-align: top;\n",
       "    }\n",
       "\n",
       "    .dataframe thead th {\n",
       "        text-align: right;\n",
       "    }\n",
       "</style>\n",
       "<table border=\"1\" class=\"dataframe\">\n",
       "  <thead>\n",
       "    <tr style=\"text-align: right;\">\n",
       "      <th></th>\n",
       "      <th>epoch</th>\n",
       "      <th>loss</th>\n",
       "      <th>mrcnn_bbox_loss</th>\n",
       "      <th>mrcnn_class_loss</th>\n",
       "      <th>mrcnn_mask_loss</th>\n",
       "      <th>rpn_bbox_loss</th>\n",
       "      <th>rpn_class_loss</th>\n",
       "      <th>val_loss</th>\n",
       "      <th>val_mrcnn_bbox_loss</th>\n",
       "      <th>val_mrcnn_class_loss</th>\n",
       "      <th>val_mrcnn_mask_loss</th>\n",
       "      <th>val_rpn_bbox_loss</th>\n",
       "      <th>val_rpn_class_loss</th>\n",
       "    </tr>\n",
       "  </thead>\n",
       "  <tbody>\n",
       "    <tr>\n",
       "      <th>0</th>\n",
       "      <td>0</td>\n",
       "      <td>1.597737</td>\n",
       "      <td>0.364468</td>\n",
       "      <td>0.047940</td>\n",
       "      <td>0.378516</td>\n",
       "      <td>0.734587</td>\n",
       "      <td>0.072222</td>\n",
       "      <td>2.067259</td>\n",
       "      <td>0.491879</td>\n",
       "      <td>0.028641</td>\n",
       "      <td>0.447036</td>\n",
       "      <td>1.034730</td>\n",
       "      <td>0.064966</td>\n",
       "    </tr>\n",
       "    <tr>\n",
       "      <th>1</th>\n",
       "      <td>1</td>\n",
       "      <td>1.562533</td>\n",
       "      <td>0.354755</td>\n",
       "      <td>0.049503</td>\n",
       "      <td>0.378953</td>\n",
       "      <td>0.707225</td>\n",
       "      <td>0.072092</td>\n",
       "      <td>2.029728</td>\n",
       "      <td>0.510812</td>\n",
       "      <td>0.039454</td>\n",
       "      <td>0.435189</td>\n",
       "      <td>0.974733</td>\n",
       "      <td>0.069534</td>\n",
       "    </tr>\n",
       "    <tr>\n",
       "      <th>2</th>\n",
       "      <td>2</td>\n",
       "      <td>1.545460</td>\n",
       "      <td>0.346646</td>\n",
       "      <td>0.046934</td>\n",
       "      <td>0.371779</td>\n",
       "      <td>0.711555</td>\n",
       "      <td>0.068540</td>\n",
       "      <td>1.854585</td>\n",
       "      <td>0.492968</td>\n",
       "      <td>0.031687</td>\n",
       "      <td>0.438271</td>\n",
       "      <td>0.828422</td>\n",
       "      <td>0.063231</td>\n",
       "    </tr>\n",
       "    <tr>\n",
       "      <th>3</th>\n",
       "      <td>3</td>\n",
       "      <td>1.550155</td>\n",
       "      <td>0.351336</td>\n",
       "      <td>0.046189</td>\n",
       "      <td>0.376761</td>\n",
       "      <td>0.706024</td>\n",
       "      <td>0.069839</td>\n",
       "      <td>1.912919</td>\n",
       "      <td>0.465564</td>\n",
       "      <td>0.024877</td>\n",
       "      <td>0.439090</td>\n",
       "      <td>0.924973</td>\n",
       "      <td>0.058409</td>\n",
       "    </tr>\n",
       "    <tr>\n",
       "      <th>4</th>\n",
       "      <td>4</td>\n",
       "      <td>1.568331</td>\n",
       "      <td>0.350314</td>\n",
       "      <td>0.046811</td>\n",
       "      <td>0.379990</td>\n",
       "      <td>0.718706</td>\n",
       "      <td>0.072505</td>\n",
       "      <td>1.880698</td>\n",
       "      <td>0.489190</td>\n",
       "      <td>0.031008</td>\n",
       "      <td>0.416712</td>\n",
       "      <td>0.883947</td>\n",
       "      <td>0.059835</td>\n",
       "    </tr>\n",
       "  </tbody>\n",
       "</table>\n",
       "</div>"
      ],
      "text/plain": [
       "   epoch      loss  mrcnn_bbox_loss  mrcnn_class_loss  mrcnn_mask_loss  \\\n",
       "0      0  1.597737         0.364468          0.047940         0.378516   \n",
       "1      1  1.562533         0.354755          0.049503         0.378953   \n",
       "2      2  1.545460         0.346646          0.046934         0.371779   \n",
       "3      3  1.550155         0.351336          0.046189         0.376761   \n",
       "4      4  1.568331         0.350314          0.046811         0.379990   \n",
       "\n",
       "   rpn_bbox_loss  rpn_class_loss  val_loss  val_mrcnn_bbox_loss  \\\n",
       "0       0.734587        0.072222  2.067259             0.491879   \n",
       "1       0.707225        0.072092  2.029728             0.510812   \n",
       "2       0.711555        0.068540  1.854585             0.492968   \n",
       "3       0.706024        0.069839  1.912919             0.465564   \n",
       "4       0.718706        0.072505  1.880698             0.489190   \n",
       "\n",
       "   val_mrcnn_class_loss  val_mrcnn_mask_loss  val_rpn_bbox_loss  \\\n",
       "0              0.028641             0.447036           1.034730   \n",
       "1              0.039454             0.435189           0.974733   \n",
       "2              0.031687             0.438271           0.828422   \n",
       "3              0.024877             0.439090           0.924973   \n",
       "4              0.031008             0.416712           0.883947   \n",
       "\n",
       "   val_rpn_class_loss  \n",
       "0            0.064966  \n",
       "1            0.069534  \n",
       "2            0.063231  \n",
       "3            0.058409  \n",
       "4            0.059835  "
      ]
     },
     "execution_count": 1,
     "metadata": {},
     "output_type": "execute_result"
    }
   ],
   "source": [
    "import pandas as pd\n",
    "df=pd.read_csv('training.log',sep=',')\n",
    "df.head()"
   ]
  },
  {
   "cell_type": "code",
   "execution_count": 3,
   "metadata": {},
   "outputs": [
    {
     "data": {
      "image/png": "[encoded data removed]",
      "text/plain": [
       "<Figure size 432x288 with 1 Axes>"
      ]
     },
     "metadata": {
      "needs_background": "light"
     },
     "output_type": "display_data"
    },
    {
     "data": {
      "image/png": "[encoded data removed]",
      "text/plain": [
       "<Figure size 432x288 with 1 Axes>"
      ]
     },
     "metadata": {
      "needs_background": "light"
     },
     "output_type": "display_data"
    }
   ],
   "source": [
    "import matplotlib.pyplot as plt\n",
    "df.plot(kind=\"line\",x='epoch',y=['loss','val_loss'])\n",
    "df.plot(kind=\"line\",x='epoch',y='val_loss',color='red')\n",
    "plt.show()"
   ]
  },
  {
   "cell_type": "code",
   "execution_count": null,
   "metadata": {},
   "outputs": [],
   "source": []
  }
 ],
 "metadata": {
  "kernelspec": {
   "display_name": "Python 3",
   "language": "python",
   "name": "python3"
  },
  "language_info": {
   "codemirror_mode": {
    "name": "ipython",
    "version": 3
   },
   "file_extension": ".py",
   "mimetype": "text/x-python",
   "name": "python",
   "nbconvert_exporter": "python",
   "pygments_lexer": "ipython3",
   "version": "3.6.5"
  }
 },
 "nbformat": 4,
 "nbformat_minor": 4
}
