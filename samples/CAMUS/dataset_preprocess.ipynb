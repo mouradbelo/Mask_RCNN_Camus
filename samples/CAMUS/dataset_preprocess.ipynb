{
 "cells": [
  {
   "cell_type": "markdown",
   "metadata": {},
   "source": [
    "# Data Preprocessing\n",
    "We split the ground truth masks into 4 binary masks :\n",
    "* `gt1` : Left Ventricule / Endocardium.\n",
    "* `gt2` : Myocardium.\n",
    "* `gt3` : Left Atrium.\n",
    "* `gt4` : Epicardium (Union of Myocarium with Endocardium)."
   ]
  },
  {
   "cell_type": "code",
   "execution_count": 1,
   "metadata": {},
   "outputs": [],
   "source": [
    "import SimpleITK as sitk\n",
    "import os\n",
    "import numpy as np\n",
    "\n",
    "# Pixel spacing in mm as set by the original dataset\n",
    "spacing = [0.308,0.154]\n",
    "# Path to parent directory of dataset (Either test or train/val)\n",
    "PATH=\"/home/mourad/TDSI/challenge/testmourad/\"\n",
    "\n",
    "for r,d,f in os.walk(PATH):\n",
    "    for file in f:\n",
    "        if ('ED_gt.mhd' in file) or ('ES_gt.mhd' in file):\n",
    "            \n",
    "            image = sitk.GetArrayFromImage(sitk.ReadImage(os.path.join(r,file)))\n",
    "            # We eliminate the first axis to get a 2D image\n",
    "            image = image.squeeze()\n",
    "            \n",
    "            lv = np.where (image == 1, 1, 0)\n",
    "            myo = np.where (image == 2,1 ,0)\n",
    "            la = np.where (image == 3, 1 , 0)\n",
    "            epi = myo + lv\n",
    "            \n",
    "            # Encoding in Char as the original format \n",
    "            lv = lv.astype('uint8')\n",
    "            epi = epi.astype('uint8')\n",
    "            la = la.astype('uint8')\n",
    "            myo = myo.astype('uint8')\n",
    "            \n",
    "            lvImage = sitk.GetImageFromArray(lv,isVector=False)\n",
    "            lvImage.SetSpacing(spacing)\n",
    "            sitk.WriteImage(lvImage,os.path.join(r,file)[:-4]+\"1.mhd\",False)\n",
    "            \n",
    "            epiImage = sitk.GetImageFromArray(epi,isVector=False)\n",
    "            epiImage.SetSpacing(spacing)\n",
    "            sitk.WriteImage(epiImage,os.path.join(r,file)[:-4]+\"4.mhd\",False)\n",
    "            \n",
    "            laImage = sitk.GetImageFromArray(la,isVector=False)\n",
    "            laImage.SetSpacing(spacing)\n",
    "            sitk.WriteImage(laImage,os.path.join(r,file)[:-4]+\"3.mhd\",False)\n",
    "            \n",
    "            myoImage = sitk.GetImageFromArray(myo,isVector=False)\n",
    "            myoImage.SetSpacing(spacing)\n",
    "            sitk.WriteImage(myoImage,os.path.join(r,file)[:-4]+\"2.mhd\",False)"
   ]
  },
  {
   "cell_type": "code",
   "execution_count": 8,
   "metadata": {},
   "outputs": [
    {
     "data": {
      "image/png": "[encoded data removed]",
      "text/plain": [
       "<Figure size 432x288 with 1 Axes>"
      ]
     },
     "metadata": {
      "needs_background": "light"
     },
     "output_type": "display_data"
    }
   ],
   "source": [
    "import SimpleITK as sitk\n",
    "import os\n",
    "import numpy as np\n",
    "\n",
    "PATH=\"/home/mourad/TDSI/challenge/data/camus_separated\"\n",
    "for r,d,f in os.walk(PATH):\n",
    "    for file in f:\n",
    "        for i in range (3)\n",
    "            if ('ED_gt' + str(i) + '.mhd' in file) or ('ES_gt' + str (i) + '.mhd' in file):        \n",
    "                image = sitk.GetArrayFromImage(sitk.ReadImage(os.path.join(r,file)))\n",
    "                \n",
    "                plt.imshow(image)"
   ]
  }
 ],
 "metadata": {
  "kernelspec": {
   "display_name": "Python 3",
   "language": "python",
   "name": "python3"
  },
  "language_info": {
   "codemirror_mode": {
    "name": "ipython",
    "version": 3
   },
   "file_extension": ".py",
   "mimetype": "text/x-python",
   "name": "python",
   "nbconvert_exporter": "python",
   "pygments_lexer": "ipython3",
   "version": "3.6.9"
  }
 },
 "nbformat": 4,
 "nbformat_minor": 4
}
